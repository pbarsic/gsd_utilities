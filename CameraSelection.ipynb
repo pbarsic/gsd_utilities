{
 "cells": [
  {
   "cell_type": "markdown",
   "metadata": {},
   "source": [
    "# Autonomy POC Camera Selection\n",
    "\n",
    "Author: Paul Barsic  \n",
    "paul.barsic@terraclear.com  \n",
    "8 June 2022\n",
    "\n",
    "### Summary\n",
    "\n",
    "This notebook contains some good methods for comparing different cameras.  \n",
    "The purpose of this comparison is to inform TerraClear's camera choices for the tow-behind work.  \n",
    "This notebook examines the geometric properties only.  \n",
    "\n",
    "I think that the best camera available is the Luxonis Oak-D POE camera, which combines a stereo sensor with a high resolution RGB sensor with a sufficiently small GSD, in an IP-67 package.\n",
    "\n",
    "The GSD plots are shown in sensor coordinates, not as a ground patch. This will confuse some people, so don't share this notebook until I also plot the ground patch.\n",
    "\n",
    "In the GSD plots, white areas are out of range. The function is monatonic until the horizon, which matters if the camera has a large FOV and a shallow declination.\n",
    "\n",
    "### TODO\n",
    "* wrap this stuff in a class\n",
    "* plot the ground patch\n",
    "* indicate the horizon\n",
    "* plot the GSD on the ground patch"
   ]
  },
  {
   "cell_type": "code",
   "execution_count": null,
   "metadata": {},
   "outputs": [],
   "source": [
    "import numpy as np\n",
    "import fov_tools\n",
    "import gsd_tools"
   ]
  },
  {
   "cell_type": "markdown",
   "metadata": {},
   "source": [
    "## Camera orientation\n",
    "The next box defines the model camera mounting parameters: height above ground, and angle that the camera is tilted down from the horizon."
   ]
  },
  {
   "cell_type": "code",
   "execution_count": null,
   "metadata": {},
   "outputs": [],
   "source": [
    "camera_height_m = 2.0\n",
    "camera_declination_degrees = 30\n",
    "distance_m = camera_height_m / np.sin(camera_declination_degrees * np.pi / 180.)\n",
    "print(f\"Camera center projects to a point on the ground {distance_m:0.2f} m away.\")"
   ]
  },
  {
   "cell_type": "markdown",
   "metadata": {},
   "source": [
    "## Zed 2i 2mm"
   ]
  },
  {
   "cell_type": "code",
   "execution_count": null,
   "metadata": {},
   "outputs": [],
   "source": [
    "focal_mm = 2.2\n",
    "width_pixels = 2208\n",
    "height_pixels = 1242\n",
    "pitch_um = 2.8\n",
    "\n",
    "fov_tools.summary(\n",
    "    \"Zed 2i, 2mm lens option\",\n",
    "    width_pixels,\n",
    "    height_pixels,\n",
    "    pitch_um,\n",
    "    focal_mm,\n",
    "    distance_m,\n",
    ")\n",
    "gsd_tools.summary(\n",
    "    width_pixels,\n",
    "    height_pixels,\n",
    "    pitch_um,\n",
    "    focal_mm,\n",
    "    camera_declination_degrees,\n",
    "    camera_height_m,\n",
    ")\n",
    "gsd_tools.plot(\n",
    "    width_pixels,\n",
    "    height_pixels,\n",
    "    pitch_um,\n",
    "    focal_mm,\n",
    "    camera_declination_degrees,\n",
    "    camera_height_m,\n",
    ")\n"
   ]
  },
  {
   "cell_type": "markdown",
   "metadata": {},
   "source": [
    "## Zed 2i 4mm"
   ]
  },
  {
   "cell_type": "code",
   "execution_count": null,
   "metadata": {},
   "outputs": [],
   "source": [
    "focal_mm = 4.0\n",
    "width_pixels = 2208\n",
    "height_pixels = 1242\n",
    "pitch_um = 2.8\n",
    "\n",
    "fov_tools.summary(\"Zed 2i, 4mm lens option\", width_pixels, height_pixels, pitch_um, focal_mm, distance_m)\n",
    "gsd_tools.summary(\n",
    "    width_pixels,\n",
    "    height_pixels,\n",
    "    pitch_um,\n",
    "    focal_mm,\n",
    "    camera_declination_degrees,\n",
    "    camera_height_m,\n",
    ")\n",
    "gsd_tools.plot(\n",
    "    width_pixels,\n",
    "    height_pixels,\n",
    "    pitch_um,\n",
    "    focal_mm,\n",
    "    camera_declination_degrees,\n",
    "    camera_height_m,\n",
    ")"
   ]
  },
  {
   "cell_type": "markdown",
   "metadata": {},
   "source": [
    "## Lucid TRI230c"
   ]
  },
  {
   "cell_type": "code",
   "execution_count": null,
   "metadata": {},
   "outputs": [],
   "source": [
    "\n",
    "focal_mm = 12.0\n",
    "width_pixels = 1920\n",
    "height_pixels = 1200\n",
    "pitch_um = 3.45\n",
    "\n",
    "fov_tools.summary(\"Lucid TRI230c\", width_pixels, height_pixels, pitch_um, focal_mm, distance_m)\n",
    "gsd_tools.summary(\n",
    "    width_pixels,\n",
    "    height_pixels,\n",
    "    pitch_um,\n",
    "    focal_mm,\n",
    "    camera_declination_degrees,\n",
    "    camera_height_m,\n",
    ")\n",
    "gsd_tools.plot(\n",
    "    width_pixels,\n",
    "    height_pixels,\n",
    "    pitch_um,\n",
    "    focal_mm,\n",
    "    camera_declination_degrees,\n",
    "    camera_height_m,\n",
    ")"
   ]
  },
  {
   "cell_type": "markdown",
   "metadata": {},
   "source": [
    "## Luxonis Oak-D POE\n",
    "\n",
    "[product website](https://docs.luxonis.com/projects/hardware/en/latest/pages/BW1098OAK.html)\n",
    "\n",
    "[technical info](https://docs.luxonis.com/projects/hardware/en/latest/pages/SJ2088POE.html#minimal-and-maximal-perceiving-distances-of-the-camera)\n",
    "\n",
    "Color Sensor: IMX378\n",
    "\n",
    "Price: $299\n",
    "I strongly recommend purchasing this camera, as it would solve a number of problems with the existing Zed/Lucid hybrid."
   ]
  },
  {
   "cell_type": "code",
   "execution_count": null,
   "metadata": {},
   "outputs": [],
   "source": [
    "width_pixels = 4056\n",
    "height_pixels = 3040\n",
    "pitch_um = 1.55\n",
    "dfov_deg = 81.0\n",
    "focal_mm = fov_tools.compute_focal_mm(\n",
    "    dfov_deg * np.pi / 180, width_pixels, height_pixels, pitch_um\n",
    ")\n",
    "fov_tools.summary(\n",
    "    \"Luxonis Oak-D POE\", width_pixels, height_pixels, pitch_um, focal_mm, distance_m\n",
    ")\n",
    "gsd_tools.summary(\n",
    "    width_pixels,\n",
    "    height_pixels,\n",
    "    pitch_um,\n",
    "    focal_mm,\n",
    "    camera_declination_degrees,\n",
    "    camera_height_m,\n",
    ")\n",
    "gsd_tools.plot(\n",
    "    width_pixels,\n",
    "    height_pixels,\n",
    "    pitch_um,\n",
    "    focal_mm,\n",
    "    camera_declination_degrees,\n",
    "    camera_height_m,\n",
    ")\n"
   ]
  },
  {
   "cell_type": "code",
   "execution_count": null,
   "metadata": {},
   "outputs": [],
   "source": []
  }
 ],
 "metadata": {
  "interpreter": {
   "hash": "3d0bc8314228987b61522f6f31dbad63411dcf502b4e39ab20cd68199e74d86b"
  },
  "kernelspec": {
   "display_name": "Python 3.8.10 ('cv')",
   "language": "python",
   "name": "python3"
  },
  "language_info": {
   "codemirror_mode": {
    "name": "ipython",
    "version": 3
   },
   "file_extension": ".py",
   "mimetype": "text/x-python",
   "name": "python",
   "nbconvert_exporter": "python",
   "pygments_lexer": "ipython3",
   "version": "3.8.10"
  },
  "orig_nbformat": 4
 },
 "nbformat": 4,
 "nbformat_minor": 2
}
