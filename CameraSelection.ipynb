{
 "cells": [
  {
   "cell_type": "markdown",
   "metadata": {},
   "source": [
    "# Autonomy POC Camera Selection\n",
    "\n",
    "Author: Paul Barsic  \n",
    "paul.barsic@terraclear.com  \n",
    "13 December 2021\n",
    "\n",
    "### Summary\n",
    "\n",
    "This notebook contains some good methods for comparing sensor resolution. The purpose of this comparison is to inform Terraclear's camera choices for the Autonomy POC work that needs to be done in January 2022. I think that the best camera available is the Luxonis Oak-D POE camera, which combines a stereo sensor with a high resolution RGB sensor with a sufficiently small GSD, in an IP-67 package."
   ]
  },
  {
   "cell_type": "code",
   "execution_count": 1,
   "metadata": {},
   "outputs": [],
   "source": [
    "import numpy as np"
   ]
  },
  {
   "cell_type": "code",
   "execution_count": 2,
   "metadata": {},
   "outputs": [],
   "source": [
    "def dfov(width_px, height_px, pitch_um, f_mm):\n",
    "    half_diag_px = 0.5 * np.sqrt(width_px ** 2 + height_px ** 2)\n",
    "    half_diag_mm = half_diag_px * pitch_um * 1e-3\n",
    "    theta = 2 * np.arctan(half_diag_mm / f_mm)\n",
    "\n",
    "    return theta\n",
    "\n",
    "\n",
    "def hfov(width_px, height_px, pitch_um, f_mm):\n",
    "    return dfov(width_px, 0, pitch_um, f_mm)\n",
    "\n",
    "\n",
    "def vfov(width_px, height_px, pitch_um, f_mm):\n",
    "    return dfov(0, height_px, pitch_um, f_mm)\n",
    "\n",
    "\n",
    "def gsd(pitch_um, f_mm, distance):\n",
    "    return distance * np.tan(hfov(1, 1, pitch_um, f_mm))\n",
    "\n",
    "\n",
    "def print_summary(identifier, width_px, height_px, pitch_um, f_mm, distance_m):\n",
    "    theta_d = dfov(width_px, height_px, pitch_um, f_mm)\n",
    "    theta_h = hfov(width_px, height_px, pitch_um, f_mm) * 180.0 / np.pi\n",
    "    theta_v = vfov(width_px, height_px, pitch_um, f_mm) * 180.0 / np.pi\n",
    "    gsd_mm = gsd(pitch_um, f_mm, distance_m * 1e3)\n",
    "    print(\n",
    "        f\"{identifier}\\n\"\n",
    "        f\" focal length   = {f_mm:.2f} mm\\n\"\n",
    "        f\" FOV   Diagonal = {theta_d * 180. / np.pi:.1f} degrees\\n\"\n",
    "        f\"     Horizontal = {theta_h:.1f} degrees\\n\"\n",
    "        f\"       Vertical = {theta_v:.1f} degrees\\n\"\n",
    "        f\"  GSD at {distance_m:.2f} m = {gsd_mm:.1f} mmm\\n\"\n",
    "    )\n",
    "\n",
    "\n",
    "def compute_pitch_um(dfov_rad, width_px, height_px, f_mm):\n",
    "    half_diag_px = 0.5 * np.sqrt(width_px ** 2 + height_px ** 2)\n",
    "    pitch_um = np.tan(dfov_rad) * f_mm / half_diag_px * 1e3\n",
    "    return pitch_um\n",
    "\n",
    "\n",
    "def compute_focal_mm(dfov_rad, width_px, height_px, pitch_um):\n",
    "    half_diag_mm = 0.5 * np.sqrt(width_px ** 2 + height_px ** 2) * pitch_um * 1e-3\n",
    "    f_mm = half_diag_mm / np.tan(dfov_rad * 0.5)\n",
    "    return f_mm\n"
   ]
  },
  {
   "cell_type": "markdown",
   "metadata": {},
   "source": [
    "# Camera orientation\n",
    "The next box defines the model camera mounting parameters: height above ground, and angle that the camera is tilted down from the horizon."
   ]
  },
  {
   "cell_type": "code",
   "execution_count": 11,
   "metadata": {},
   "outputs": [
    {
     "name": "stdout",
     "output_type": "stream",
     "text": [
      "Camera center projects to a point on the ground 4.00 m away.\n"
     ]
    }
   ],
   "source": [
    "camera_height_m = 2.0\n",
    "camera_declination_degrees = 30\n",
    "distance_m = camera_height_m / np.sin(camera_declination_degrees * np.pi / 180.)\n",
    "print(f\"Camera center projects to a point on the ground {distance_m:0.2f} m away.\")"
   ]
  },
  {
   "cell_type": "markdown",
   "metadata": {},
   "source": [
    "## Zed 2i 2mm"
   ]
  },
  {
   "cell_type": "code",
   "execution_count": 9,
   "metadata": {},
   "outputs": [
    {
     "name": "stdout",
     "output_type": "stream",
     "text": [
      "Zed 2i, 2mm lens option\n",
      " focal length   = 2.20 mm\n",
      " FOV   Diagonal = 116.4 degrees\n",
      "     Horizontal = 109.1 degrees\n",
      "       Vertical = 76.6 degrees\n",
      "  GSD at 4.00 m = 5.1 mmm\n",
      "\n"
     ]
    }
   ],
   "source": [
    "focal_mm = 2.2\n",
    "width_pixels = 2208\n",
    "height_pixels = 1242\n",
    "pitch_um = 2.8\n",
    "\n",
    "print_summary(\"Zed 2i, 2mm lens option\", width_pixels, height_pixels, pitch_um, focal_mm, distance_m)"
   ]
  },
  {
   "cell_type": "markdown",
   "metadata": {},
   "source": [
    "## Zed 2i 4mm"
   ]
  },
  {
   "cell_type": "code",
   "execution_count": 10,
   "metadata": {},
   "outputs": [
    {
     "name": "stdout",
     "output_type": "stream",
     "text": [
      "Zed 2i, 4mm lens option\n",
      " focal length   = 4.00 mm\n",
      " FOV   Diagonal = 83.1 degrees\n",
      "     Horizontal = 75.4 degrees\n",
      "       Vertical = 47.0 degrees\n",
      "  GSD at 4.00 m = 2.8 mmm\n",
      "\n"
     ]
    }
   ],
   "source": [
    "focal_mm = 4.0\n",
    "width_pixels = 2208\n",
    "height_pixels = 1242\n",
    "pitch_um = 2.8\n",
    "\n",
    "print_summary(\"Zed 2i, 4mm lens option\", width_pixels, height_pixels, pitch_um, focal_mm, distance_m)"
   ]
  },
  {
   "cell_type": "markdown",
   "metadata": {},
   "source": [
    "## Lucid TRI230c"
   ]
  },
  {
   "cell_type": "code",
   "execution_count": 6,
   "metadata": {},
   "outputs": [
    {
     "name": "stdout",
     "output_type": "stream",
     "text": [
      "Lucid TRI230c\n",
      " focal length   = 12.00 mm\n",
      " FOV   Diagonal = 36.1 degrees\n",
      "     Horizontal = 30.9 degrees\n",
      "       Vertical = 19.6 degrees\n",
      "  GSD at 4.00 m = 1.2 mmm\n",
      "\n"
     ]
    }
   ],
   "source": [
    "\n",
    "focal_mm = 12.0\n",
    "width_pixels = 1920\n",
    "height_pixels = 1200\n",
    "pitch_um = 3.45\n",
    "\n",
    "print_summary(\"Lucid TRI230c\", width_pixels, height_pixels, pitch_um, focal_mm, distance_m)"
   ]
  },
  {
   "cell_type": "markdown",
   "metadata": {},
   "source": [
    "## Luxonis Oak-D POE\n",
    "\n",
    "[product website](https://docs.luxonis.com/projects/hardware/en/latest/pages/BW1098OAK.html)\n",
    "\n",
    "[technical info](https://docs.luxonis.com/projects/hardware/en/latest/pages/SJ2088POE.html#minimal-and-maximal-perceiving-distances-of-the-camera)\n",
    "\n",
    "Color Sensor: IMX378\n",
    "\n",
    "Price: $299\n",
    "I strongly recommend purchasing this camera, as it would solve a number of problems with the existing Zed/Lucid hybrid."
   ]
  },
  {
   "cell_type": "code",
   "execution_count": 7,
   "metadata": {},
   "outputs": [
    {
     "name": "stdout",
     "output_type": "stream",
     "text": [
      "Luxonis Oak-D POE\n",
      " focal length   = 4.60 mm\n",
      " FOV   Diagonal = 81.0 degrees\n",
      "     Horizontal = 68.7 degrees\n",
      "       Vertical = 54.2 degrees\n",
      "  GSD at 4.00 m = 1.3 mmm\n",
      "\n"
     ]
    }
   ],
   "source": [
    "width_pixels = 4056\n",
    "height_pixels = 3040\n",
    "pitch_um = 1.55\n",
    "dfov_deg = 81.0\n",
    "focal_mm = compute_focal_mm(dfov_deg * np.pi / 180, width_pixels, height_pixels, pitch_um)\n",
    "print_summary(\"Luxonis Oak-D POE\", width_pixels, height_pixels, pitch_um, focal_mm, distance_m)"
   ]
  },
  {
   "cell_type": "code",
   "execution_count": null,
   "metadata": {},
   "outputs": [],
   "source": []
  }
 ],
 "metadata": {
  "interpreter": {
   "hash": "3d0bc8314228987b61522f6f31dbad63411dcf502b4e39ab20cd68199e74d86b"
  },
  "kernelspec": {
   "display_name": "Python 3.8.10 ('cv')",
   "language": "python",
   "name": "python3"
  },
  "language_info": {
   "codemirror_mode": {
    "name": "ipython",
    "version": 3
   },
   "file_extension": ".py",
   "mimetype": "text/x-python",
   "name": "python",
   "nbconvert_exporter": "python",
   "pygments_lexer": "ipython3",
   "version": "3.8.10"
  },
  "orig_nbformat": 4
 },
 "nbformat": 4,
 "nbformat_minor": 2
}
