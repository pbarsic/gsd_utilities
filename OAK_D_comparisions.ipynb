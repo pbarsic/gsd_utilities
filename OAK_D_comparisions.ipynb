{
 "cells": [
  {
   "cell_type": "markdown",
   "metadata": {},
   "source": [
    "# OAK-D MODEL COMPARISONS\n",
    "This notebook will produce GSD and ground footprint"
   ]
  },
  {
   "cell_type": "code",
   "execution_count": null,
   "metadata": {},
   "outputs": [],
   "source": [
    "import numpy as np\n",
    "import fov_tools\n",
    "import gsd_tools"
   ]
  },
  {
   "cell_type": "code",
   "execution_count": null,
   "metadata": {},
   "outputs": [],
   "source": [
    "camera_height_m = 3.5\n",
    "camera_declination_degrees = 90\n",
    "distance_m = camera_height_m / np.sin(camera_declination_degrees * np.pi / 180.)\n",
    "print(f\"Camera center projects to a point on the ground {distance_m:0.2f} m away.\")"
   ]
  },
  {
   "cell_type": "code",
   "execution_count": null,
   "metadata": {},
   "outputs": [],
   "source": []
  },
  {
   "cell_type": "markdown",
   "metadata": {},
   "source": [
    "## Luxonis OAK-D POE\n",
    "\n",
    "[product website](https://docs.luxonis.com/projects/hardware/en/latest/pages/BW1098OAK.html)\n",
    "\n",
    "[technical info](https://docs.luxonis.com/projects/hardware/en/latest/pages/SJ2088POE.html#minimal-and-maximal-perceiving-distances-of-the-camera)\n",
    "\n",
    "Color Sensor: IMX378\n",
    "\n",
    "Price: $299\n",
    "I strongly recommend purchasing this camera, as it would solve a number of problems with the existing Zed/Lucid hybrid."
   ]
  },
  {
   "cell_type": "code",
   "execution_count": null,
   "metadata": {},
   "outputs": [],
   "source": [
    "camera_height_m = 2.13\n",
    "camera_declination_degrees = 60\n",
    "distance_m = camera_height_m / np.sin(camera_declination_degrees * np.pi / 180.)\n",
    "\n",
    "print(f\"Camera center projects to a point on the ground {distance_m:0.2f} m away.\")\n",
    "\n",
    "width_pixels = 4056\n",
    "height_pixels = 3040\n",
    "pitch_um = 1.55\n",
    "dfov_deg = 81.0\n",
    "focal_mm = fov_tools.compute_focal_mm(\n",
    "    dfov_deg * np.pi / 180, width_pixels, height_pixels, pitch_um\n",
    ")\n",
    "fov_tools.summary(\n",
    "    \"Luxonis Oak-D POE\", width_pixels, height_pixels, pitch_um, focal_mm, distance_m\n",
    ")\n",
    "gsd_tools.summary(\n",
    "    width_pixels,\n",
    "    height_pixels,\n",
    "    pitch_um,\n",
    "    focal_mm,\n",
    "    camera_declination_degrees,\n",
    "    camera_height_m,\n",
    ")\n",
    "gsd_tools.plot(\n",
    "    width_pixels,\n",
    "    height_pixels,\n",
    "    pitch_um,\n",
    "    focal_mm,\n",
    "    camera_declination_degrees,\n",
    "    camera_height_m,\n",
    "    levels=np.arange(.7,1.6,.1).tolist()\n",
    ")"
   ]
  },
  {
   "cell_type": "markdown",
   "metadata": {},
   "source": [
    "## Luxonis OAK-D W POE\n",
    "Color Sensor: IMX378\n",
    "Available for pre-order"
   ]
  },
  {
   "cell_type": "code",
   "execution_count": null,
   "metadata": {},
   "outputs": [],
   "source": [
    "camera_height_m = 1.7\n",
    "camera_declination_degrees = 90\n",
    "distance_m = camera_height_m / np.sin(camera_declination_degrees * np.pi / 180.)\n",
    "\n",
    "print(f\"Camera center projects to a point on the ground {distance_m:0.2f} m away.\")\n",
    "\n",
    "width_pixels = 4056\n",
    "height_pixels = 3040\n",
    "pitch_um = 1.55\n",
    "dfov_deg = 120.0\n",
    "focal_mm = fov_tools.compute_focal_mm(\n",
    "    dfov_deg * np.pi / 180, width_pixels, height_pixels, pitch_um\n",
    ")\n",
    "fov_tools.summary(\n",
    "    \"Luxonis Oak-D W POE\", width_pixels, height_pixels, pitch_um, focal_mm, distance_m\n",
    ")\n",
    "gsd_tools.summary(\n",
    "    width_pixels,\n",
    "    height_pixels,\n",
    "    pitch_um,\n",
    "    focal_mm,\n",
    "    camera_declination_degrees,\n",
    "    camera_height_m,\n",
    ")\n",
    "gsd_tools.plot(\n",
    "    width_pixels,\n",
    "    height_pixels,\n",
    "    pitch_um,\n",
    "    focal_mm,\n",
    "    camera_declination_degrees,\n",
    "    camera_height_m,\n",
    "    levels=[1.125, 1.25, 1.375, 1.5, 1.625, 1.75, 2.0]\n",
    ")"
   ]
  },
  {
   "cell_type": "code",
   "execution_count": null,
   "metadata": {},
   "outputs": [],
   "source": []
  }
 ],
 "metadata": {
  "kernelspec": {
   "display_name": "Python 3.8.10 ('cv')",
   "language": "python",
   "name": "python3"
  },
  "language_info": {
   "codemirror_mode": {
    "name": "ipython",
    "version": 3
   },
   "file_extension": ".py",
   "mimetype": "text/x-python",
   "name": "python",
   "nbconvert_exporter": "python",
   "pygments_lexer": "ipython3",
   "version": "3.8.10"
  },
  "orig_nbformat": 4,
  "vscode": {
   "interpreter": {
    "hash": "3d0bc8314228987b61522f6f31dbad63411dcf502b4e39ab20cd68199e74d86b"
   }
  }
 },
 "nbformat": 4,
 "nbformat_minor": 2
}
